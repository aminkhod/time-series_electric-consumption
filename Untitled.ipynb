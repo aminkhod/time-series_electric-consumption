{
 "cells": [
  {
   "cell_type": "code",
   "execution_count": 1,
   "id": "c4f0a5d4",
   "metadata": {},
   "outputs": [],
   "source": [
    "from datetime import datetime\n",
    "import pandas as pd"
   ]
  },
  {
   "cell_type": "code",
   "execution_count": 2,
   "id": "2a69d19c",
   "metadata": {},
   "outputs": [],
   "source": [
    "# df = pd.read_csv('demand_jan_maio.csv')"
   ]
  },
  {
   "cell_type": "code",
   "execution_count": 3,
   "id": "972313e7",
   "metadata": {},
   "outputs": [],
   "source": [
    "# # df['timel'] = pd.to_datetime(df['timel']).dt.time\n",
    "# start = pd.to_datetime('01/01/2022 00:00')\n",
    "# end = pd.to_datetime('31/05/2022 23:59')\n",
    "# dates = pd.date_range(start=start, end=end, freq='1Min').time\n",
    "# print (dates[:12], len(dates))\n"
   ]
  },
  {
   "cell_type": "code",
   "execution_count": 4,
   "id": "910c3db2",
   "metadata": {},
   "outputs": [],
   "source": [
    "# df['time'] = dates"
   ]
  },
  {
   "cell_type": "code",
   "execution_count": 5,
   "id": "2e009217",
   "metadata": {},
   "outputs": [],
   "source": [
    "# df.to_excel('demand_jan_maio.xlsx', index=False)"
   ]
  },
  {
   "cell_type": "code",
   "execution_count": 9,
   "id": "f9d79d2b",
   "metadata": {},
   "outputs": [],
   "source": [
    "df = pd.read_excel('demand_jan_maio.xlsx')"
   ]
  },
  {
   "cell_type": "code",
   "execution_count": 7,
   "id": "161bcfc9",
   "metadata": {},
   "outputs": [
    {
     "data": {
      "text/html": [
       "<div>\n",
       "<style scoped>\n",
       "    .dataframe tbody tr th:only-of-type {\n",
       "        vertical-align: middle;\n",
       "    }\n",
       "\n",
       "    .dataframe tbody tr th {\n",
       "        vertical-align: top;\n",
       "    }\n",
       "\n",
       "    .dataframe thead th {\n",
       "        text-align: right;\n",
       "    }\n",
       "</style>\n",
       "<table border=\"1\" class=\"dataframe\">\n",
       "  <thead>\n",
       "    <tr style=\"text-align: right;\">\n",
       "      <th></th>\n",
       "      <th>Consumption</th>\n",
       "      <th>next 8 hour</th>\n",
       "    </tr>\n",
       "  </thead>\n",
       "  <tbody>\n",
       "    <tr>\n",
       "      <th>0</th>\n",
       "      <td>56443</td>\n",
       "      <td>43926.143750</td>\n",
       "    </tr>\n",
       "    <tr>\n",
       "      <th>1</th>\n",
       "      <td>51642</td>\n",
       "      <td>43902.985417</td>\n",
       "    </tr>\n",
       "    <tr>\n",
       "      <th>2</th>\n",
       "      <td>51757</td>\n",
       "      <td>43891.245833</td>\n",
       "    </tr>\n",
       "    <tr>\n",
       "      <th>3</th>\n",
       "      <td>51521</td>\n",
       "      <td>43879.418750</td>\n",
       "    </tr>\n",
       "    <tr>\n",
       "      <th>4</th>\n",
       "      <td>51295</td>\n",
       "      <td>43867.204167</td>\n",
       "    </tr>\n",
       "  </tbody>\n",
       "</table>\n",
       "</div>"
      ],
      "text/plain": [
       "   Consumption   next 8 hour\n",
       "0        56443  43926.143750\n",
       "1        51642  43902.985417\n",
       "2        51757  43891.245833\n",
       "3        51521  43879.418750\n",
       "4        51295  43867.204167"
      ]
     },
     "execution_count": 7,
     "metadata": {},
     "output_type": "execute_result"
    }
   ],
   "source": [
    "df.head()"
   ]
  },
  {
   "cell_type": "code",
   "execution_count": 10,
   "id": "45b754c0",
   "metadata": {},
   "outputs": [],
   "source": [
    "# univariate lstm example\n",
    "from numpy import array\n",
    "from keras.models import Sequential\n",
    "from keras.layers import LSTM\n",
    "from keras.layers import Dense"
   ]
  },
  {
   "cell_type": "code",
   "execution_count": 11,
   "id": "7de5d1fd",
   "metadata": {},
   "outputs": [],
   "source": [
    "# split a univariate sequence into samples\n",
    "def split_sequence(sequence, n_steps):\n",
    "\tX, y = list(), list()\n",
    "\tfor i in range(len(sequence)):\n",
    "\t\t# find the end of this pattern\n",
    "\t\tend_ix = i + n_steps\n",
    "\t\t# check if we are beyond the sequence\n",
    "\t\tif end_ix > len(sequence)-1:\n",
    "\t\t\tbreak\n",
    "\t\t# gather input and output parts of the pattern\n",
    "\t\tseq_x, seq_y = sequence[i:end_ix], sequence[end_ix]\n",
    "\t\tX.append(seq_x)\n",
    "\t\ty.append(seq_y)\n",
    "\treturn array(X), array(y)"
   ]
  },
  {
   "cell_type": "code",
   "execution_count": 10,
   "id": "28d75654",
   "metadata": {},
   "outputs": [],
   "source": [
    "df = df.astype(float)"
   ]
  },
  {
   "cell_type": "code",
   "execution_count": 11,
   "id": "a2252b7f",
   "metadata": {},
   "outputs": [
    {
     "data": {
      "text/plain": [
       "(214480, 960)"
      ]
     },
     "execution_count": 11,
     "metadata": {},
     "output_type": "execute_result"
    }
   ],
   "source": [
    "# define input sequence\n",
    "raw_seq = df.values[:-2000, 0]\n",
    "# choose a number of time steps\n",
    "n_steps = 960\n",
    "# split into samples\n",
    "X, y = split_sequence(raw_seq, n_steps)\n",
    "y = df.values[:-2960, 1]\n",
    "X.shape"
   ]
  },
  {
   "cell_type": "code",
   "execution_count": 12,
   "id": "f74693b2",
   "metadata": {},
   "outputs": [
    {
     "data": {
      "text/plain": [
       "(214480,)"
      ]
     },
     "execution_count": 12,
     "metadata": {},
     "output_type": "execute_result"
    }
   ],
   "source": [
    "y.shape"
   ]
  },
  {
   "cell_type": "code",
   "execution_count": 13,
   "id": "863b6e39",
   "metadata": {},
   "outputs": [
    {
     "data": {
      "text/plain": [
       "(560,)"
      ]
     },
     "execution_count": 13,
     "metadata": {},
     "output_type": "execute_result"
    }
   ],
   "source": [
    "y_test = df.values[-2000:-1440, 1]\n",
    "y_test.shape"
   ]
  },
  {
   "cell_type": "code",
   "execution_count": 14,
   "id": "015b811d",
   "metadata": {},
   "outputs": [
    {
     "data": {
      "text/plain": [
       "(560, 960)"
      ]
     },
     "execution_count": 14,
     "metadata": {},
     "output_type": "execute_result"
    }
   ],
   "source": [
    "# define input sequence\n",
    "raw_seq = df.values[-2000:-480, 0]\n",
    "\n",
    "# split into samples\n",
    "X_test, vv = split_sequence(raw_seq, n_steps)\n",
    "X_test.shape"
   ]
  },
  {
   "cell_type": "code",
   "execution_count": 18,
   "id": "45d524ec",
   "metadata": {},
   "outputs": [
    {
     "name": "stdout",
     "output_type": "stream",
     "text": [
      "Model: \"sequential_2\"\n",
      "_________________________________________________________________\n",
      " Layer (type)                Output Shape              Param #   \n",
      "=================================================================\n",
      " lstm (LSTM)                 (None, 960, 50)           10400     \n",
      "                                                                 \n",
      " lstm_1 (LSTM)               (None, 50)                20200     \n",
      "                                                                 \n",
      " dense (Dense)               (None, 1)                 51        \n",
      "                                                                 \n",
      "=================================================================\n",
      "Total params: 30,651\n",
      "Trainable params: 30,651\n",
      "Non-trainable params: 0\n",
      "_________________________________________________________________\n"
     ]
    }
   ],
   "source": [
    "\n",
    "# reshape from [samples, timesteps] into [samples, timesteps, features]\n",
    "n_features = 1\n",
    "X = X.reshape((X.shape[0], X.shape[1], n_features))\n",
    "# define model\n",
    "model = Sequential()\n",
    "model.add(LSTM(50, activation='softmax', return_sequences=True, input_shape=(n_steps, n_features)))\n",
    "model.add(LSTM(50, activation='softmax'))\n",
    "model.add(Dense(1))\n",
    "model.compile(optimizer='adam', loss='mse')\n",
    "model.summary()"
   ]
  },
  {
   "cell_type": "code",
   "execution_count": null,
   "id": "743150c9",
   "metadata": {},
   "outputs": [
    {
     "name": "stdout",
     "output_type": "stream",
     "text": [
      "Epoch 1/18\n",
      " 978/6703 [===>..........................] - ETA: 52:34 - loss: 3273002752.0000"
     ]
    }
   ],
   "source": [
    "# fit model\n",
    "model.fit(X, y, epochs=18)"
   ]
  },
  {
   "cell_type": "code",
   "execution_count": null,
   "id": "70bb5edc",
   "metadata": {},
   "outputs": [],
   "source": [
    "# demonstrate prediction\n",
    "X_test = X_test.reshape((X_test.shape[0], X_test.shape[1], n_features))\n",
    "yhat = model.predict(X_test)\n",
    "# print(yhat)\n"
   ]
  },
  {
   "cell_type": "code",
   "execution_count": null,
   "id": "0f9fdac9",
   "metadata": {},
   "outputs": [],
   "source": [
    "import numpy as np\n",
    "import matplotlib.pyplot as plt\n",
    "\n",
    "plt.rcParams[\"figure.figsize\"] = [15, 8]\n",
    "plt.rcParams[\"figure.autolayout\"] = True\n",
    "\n",
    "x = list(range(len(y_test)))\n",
    "y1 = y_test\n",
    "y2 = yhat\n",
    "\n",
    "plt.subplot(211)\n",
    "plt.plot(x, y1, color='red', lw=5)\n",
    "plt.plot(x, y2, color='orange', lw=4)"
   ]
  },
  {
   "cell_type": "code",
   "execution_count": null,
   "id": "6604e392",
   "metadata": {},
   "outputs": [],
   "source": [
    "from sklearn import metrics\n",
    "print('MSE of test:', metrics.mean_squared_error(y_test, yhat))"
   ]
  },
  {
   "cell_type": "code",
   "execution_count": null,
   "id": "2ec86926",
   "metadata": {},
   "outputs": [],
   "source": [
    "import seaborn as sns\n",
    "sns.distplot(y_test-yhat)"
   ]
  },
  {
   "cell_type": "code",
   "execution_count": null,
   "id": "41d51392",
   "metadata": {},
   "outputs": [],
   "source": [
    "yhat"
   ]
  },
  {
   "cell_type": "code",
   "execution_count": null,
   "id": "dee98de8",
   "metadata": {},
   "outputs": [],
   "source": []
  }
 ],
 "metadata": {
  "kernelspec": {
   "display_name": "Python 3 (ipykernel)",
   "language": "python",
   "name": "python3"
  },
  "language_info": {
   "codemirror_mode": {
    "name": "ipython",
    "version": 3
   },
   "file_extension": ".py",
   "mimetype": "text/x-python",
   "name": "python",
   "nbconvert_exporter": "python",
   "pygments_lexer": "ipython3",
   "version": "3.8.10"
  }
 },
 "nbformat": 4,
 "nbformat_minor": 5
}
