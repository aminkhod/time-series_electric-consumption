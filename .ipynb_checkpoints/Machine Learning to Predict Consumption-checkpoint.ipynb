{
 "cells": [
  {
   "cell_type": "code",
   "execution_count": 1,
   "id": "f203bb87",
   "metadata": {},
   "outputs": [],
   "source": [
    "import numpy as np\n",
    "import pandas as pd\n",
    "\n",
    "import matplotlib.pyplot as plt\n",
    "import seaborn as sns\n"
   ]
  },
  {
   "cell_type": "code",
   "execution_count": 2,
   "id": "14e5408f",
   "metadata": {},
   "outputs": [
    {
     "data": {
      "text/html": [
       "<div>\n",
       "<style scoped>\n",
       "    .dataframe tbody tr th:only-of-type {\n",
       "        vertical-align: middle;\n",
       "    }\n",
       "\n",
       "    .dataframe tbody tr th {\n",
       "        vertical-align: top;\n",
       "    }\n",
       "\n",
       "    .dataframe thead th {\n",
       "        text-align: right;\n",
       "    }\n",
       "</style>\n",
       "<table border=\"1\" class=\"dataframe\">\n",
       "  <thead>\n",
       "    <tr style=\"text-align: right;\">\n",
       "      <th></th>\n",
       "      <th>Consumption</th>\n",
       "      <th>next 8 hour</th>\n",
       "    </tr>\n",
       "  </thead>\n",
       "  <tbody>\n",
       "    <tr>\n",
       "      <th>0</th>\n",
       "      <td>56443</td>\n",
       "      <td>43926.143750</td>\n",
       "    </tr>\n",
       "    <tr>\n",
       "      <th>1</th>\n",
       "      <td>51642</td>\n",
       "      <td>43902.985417</td>\n",
       "    </tr>\n",
       "    <tr>\n",
       "      <th>2</th>\n",
       "      <td>51757</td>\n",
       "      <td>43891.245833</td>\n",
       "    </tr>\n",
       "    <tr>\n",
       "      <th>3</th>\n",
       "      <td>51521</td>\n",
       "      <td>43879.418750</td>\n",
       "    </tr>\n",
       "    <tr>\n",
       "      <th>4</th>\n",
       "      <td>51295</td>\n",
       "      <td>43867.204167</td>\n",
       "    </tr>\n",
       "  </tbody>\n",
       "</table>\n",
       "</div>"
      ],
      "text/plain": [
       "   Consumption   next 8 hour\n",
       "0        56443  43926.143750\n",
       "1        51642  43902.985417\n",
       "2        51757  43891.245833\n",
       "3        51521  43879.418750\n",
       "4        51295  43867.204167"
      ]
     },
     "execution_count": 2,
     "metadata": {},
     "output_type": "execute_result"
    }
   ],
   "source": [
    "dataset_train = pd.read_excel('demand_jan_maio.xlsx')\n",
    "dataset_train.head()"
   ]
  },
  {
   "cell_type": "code",
   "execution_count": 3,
   "id": "75b07b71",
   "metadata": {},
   "outputs": [
    {
     "data": {
      "text/plain": [
       "14496.0"
      ]
     },
     "execution_count": 3,
     "metadata": {},
     "output_type": "execute_result"
    }
   ],
   "source": [
    "training_set = []\n",
    "Consumption = dataset_train['Consumption']\n",
    "for i in range(int(len(dataset_train)/15)):\n",
    "    training_set.append(sum(Consumption[i*15:(i*15)+15]))\n",
    "217440/15"
   ]
  },
  {
   "cell_type": "code",
   "execution_count": 4,
   "id": "10b8da17",
   "metadata": {},
   "outputs": [],
   "source": [
    "# training_set = dataset_train.iloc[:, 0:1].values\n"
   ]
  },
  {
   "cell_type": "code",
   "execution_count": 5,
   "id": "aaabdd6f",
   "metadata": {},
   "outputs": [
    {
     "data": {
      "text/plain": [
       "(217440, 2)"
      ]
     },
     "execution_count": 5,
     "metadata": {},
     "output_type": "execute_result"
    }
   ],
   "source": [
    "dataset_train.shape"
   ]
  },
  {
   "cell_type": "code",
   "execution_count": 6,
   "id": "c1b5b6b4",
   "metadata": {},
   "outputs": [
    {
     "data": {
      "text/html": [
       "<div>\n",
       "<style scoped>\n",
       "    .dataframe tbody tr th:only-of-type {\n",
       "        vertical-align: middle;\n",
       "    }\n",
       "\n",
       "    .dataframe tbody tr th {\n",
       "        vertical-align: top;\n",
       "    }\n",
       "\n",
       "    .dataframe thead th {\n",
       "        text-align: right;\n",
       "    }\n",
       "</style>\n",
       "<table border=\"1\" class=\"dataframe\">\n",
       "  <thead>\n",
       "    <tr style=\"text-align: right;\">\n",
       "      <th></th>\n",
       "      <th>Consumption</th>\n",
       "      <th>next 8 hour</th>\n",
       "    </tr>\n",
       "  </thead>\n",
       "  <tbody>\n",
       "    <tr>\n",
       "      <th>0</th>\n",
       "      <td>56443</td>\n",
       "      <td>43926.143750</td>\n",
       "    </tr>\n",
       "    <tr>\n",
       "      <th>1</th>\n",
       "      <td>51642</td>\n",
       "      <td>43902.985417</td>\n",
       "    </tr>\n",
       "    <tr>\n",
       "      <th>2</th>\n",
       "      <td>51757</td>\n",
       "      <td>43891.245833</td>\n",
       "    </tr>\n",
       "    <tr>\n",
       "      <th>3</th>\n",
       "      <td>51521</td>\n",
       "      <td>43879.418750</td>\n",
       "    </tr>\n",
       "    <tr>\n",
       "      <th>4</th>\n",
       "      <td>51295</td>\n",
       "      <td>43867.204167</td>\n",
       "    </tr>\n",
       "  </tbody>\n",
       "</table>\n",
       "</div>"
      ],
      "text/plain": [
       "   Consumption   next 8 hour\n",
       "0        56443  43926.143750\n",
       "1        51642  43902.985417\n",
       "2        51757  43891.245833\n",
       "3        51521  43879.418750\n",
       "4        51295  43867.204167"
      ]
     },
     "execution_count": 6,
     "metadata": {},
     "output_type": "execute_result"
    }
   ],
   "source": [
    "dataset_train.head()\n"
   ]
  },
  {
   "cell_type": "code",
   "execution_count": 7,
   "id": "2160e447",
   "metadata": {},
   "outputs": [
    {
     "data": {
      "text/plain": [
       "(14496,)"
      ]
     },
     "execution_count": 7,
     "metadata": {},
     "output_type": "execute_result"
    }
   ],
   "source": [
    "training_set = np.array(training_set)\n",
    "training_set.shape"
   ]
  },
  {
   "cell_type": "code",
   "execution_count": 9,
   "id": "0dc5265d",
   "metadata": {},
   "outputs": [
    {
     "data": {
      "text/plain": [
       "<seaborn.axisgrid.FacetGrid at 0x7fd8d5712c40>"
      ]
     },
     "execution_count": 9,
     "metadata": {},
     "output_type": "execute_result"
    },
    {
     "data": {
      "image/png": "[encoded data removed]",
      "text/plain": [
       "<Figure size 360x360 with 1 Axes>"
      ]
     },
     "metadata": {
      "needs_background": "light"
     },
     "output_type": "display_data"
    }
   ],
   "source": [
    "sns.displot(training_set[:10000])"
   ]
  },
  {
   "cell_type": "code",
   "execution_count": 9,
   "id": "fb2d0940",
   "metadata": {},
   "outputs": [
    {
     "name": "stderr",
     "output_type": "stream",
     "text": [
      "/home/aminuninnova/.local/lib/python3.8/site-packages/seaborn/_decorators.py:36: FutureWarning: Pass the following variable as a keyword arg: x. From version 0.12, the only valid positional argument will be `data`, and passing other arguments without an explicit keyword will result in an error or misinterpretation.\n",
      "  warnings.warn(\n"
     ]
    },
    {
     "data": {
      "text/plain": [
       "<AxesSubplot:>"
      ]
     },
     "execution_count": 9,
     "metadata": {},
     "output_type": "execute_result"
    },
    {
     "data": {
      "image/png": "[encoded data removed]",
      "text/plain": [
       "<Figure size 432x288 with 1 Axes>"
      ]
     },
     "metadata": {
      "needs_background": "light"
     },
     "output_type": "display_data"
    }
   ],
   "source": [
    "sns.boxplot(training_set[:10000], showmeans=True)"
   ]
  },
  {
   "cell_type": "code",
   "execution_count": 10,
   "id": "863b36d5",
   "metadata": {},
   "outputs": [
    {
     "data": {
      "text/plain": [
       "0    1842000.0\n",
       "Name: 1.0, dtype: float64"
      ]
     },
     "execution_count": 10,
     "metadata": {},
     "output_type": "execute_result"
    }
   ],
   "source": [
    "pd.DataFrame(training_set[:10000]).quantile(1)"
   ]
  },
  {
   "cell_type": "code",
   "execution_count": 11,
   "id": "6a97ffd6",
   "metadata": {},
   "outputs": [
    {
     "name": "stdout",
     "output_type": "stream",
     "text": [
      "1842000\n"
     ]
    }
   ],
   "source": [
    "print(max(training_set[:10000]))"
   ]
  },
  {
   "cell_type": "code",
   "execution_count": 12,
   "id": "7b65178c",
   "metadata": {},
   "outputs": [
    {
     "name": "stdout",
     "output_type": "stream",
     "text": [
      "841602.8123 232073.30087586006\n"
     ]
    },
    {
     "data": {
      "text/plain": [
       "array([-0.30135656, -0.39616282, -0.43789963, ..., -0.98055576,\n",
       "       -0.93773308, -0.87093092])"
      ]
     },
     "execution_count": 12,
     "metadata": {},
     "output_type": "execute_result"
    }
   ],
   "source": [
    "mu = np.mean(training_set[:10000])\n",
    "std = np.std(training_set[:10000])\n",
    "print(mu , std)\n",
    "training_set_scaled = (training_set[:10000] - mu) / std\n",
    "training_set_scaled"
   ]
  },
  {
   "cell_type": "code",
   "execution_count": 13,
   "id": "a6b3dc72",
   "metadata": {},
   "outputs": [
    {
     "data": {
      "text/plain": [
       "<seaborn.axisgrid.FacetGrid at 0x7fd8f71670a0>"
      ]
     },
     "execution_count": 13,
     "metadata": {},
     "output_type": "execute_result"
    },
    {
     "data": {
      "image/png": "[encoded data removed]",
      "text/plain": [
       "<Figure size 360x360 with 1 Axes>"
      ]
     },
     "metadata": {
      "needs_background": "light"
     },
     "output_type": "display_data"
    }
   ],
   "source": [
    "sns.displot(np.log(training_set))"
   ]
  },
  {
   "cell_type": "code",
   "execution_count": 14,
   "id": "0bbd7f01",
   "metadata": {},
   "outputs": [
    {
     "data": {
      "text/plain": [
       "array([[0.18681347],\n",
       "       [0.17009745],\n",
       "       [0.1627385 ],\n",
       "       ...,\n",
       "       [0.0670586 ],\n",
       "       [0.07460899],\n",
       "       [0.0863874 ]])"
      ]
     },
     "execution_count": 14,
     "metadata": {},
     "output_type": "execute_result"
    }
   ],
   "source": [
    "from sklearn.preprocessing import MinMaxScaler\n",
    "sc = MinMaxScaler(feature_range=(0, 1))\n",
    "training_set_scaled = sc.fit_transform(training_set[:10000].reshape(-1,1))\n",
    "training_set_scaled"
   ]
  },
  {
   "cell_type": "code",
   "execution_count": 15,
   "id": "4c36308f",
   "metadata": {},
   "outputs": [
    {
     "data": {
      "text/plain": [
       "<seaborn.axisgrid.FacetGrid at 0x7fd8d83eb820>"
      ]
     },
     "execution_count": 15,
     "metadata": {},
     "output_type": "execute_result"
    },
    {
     "data": {
      "image/png": "[encoded data removed]",
      "text/plain": [
       "<Figure size 402.25x360 with 1 Axes>"
      ]
     },
     "metadata": {
      "needs_background": "light"
     },
     "output_type": "display_data"
    }
   ],
   "source": [
    "sns.displot(training_set_scaled)"
   ]
  },
  {
   "cell_type": "code",
   "execution_count": 16,
   "id": "53135f2d",
   "metadata": {},
   "outputs": [],
   "source": [
    "# from sklearn.preprocessing import MinMaxScaler\n",
    "# sc = MinMaxScaler(feature_range=(0, 1))\n",
    "# training_set_scaled = sc.fit_transform(training_set[:10000].reshape(-1,1))\n",
    "# training_set_scaled"
   ]
  },
  {
   "cell_type": "code",
   "execution_count": 17,
   "id": "a1ccee95",
   "metadata": {},
   "outputs": [
    {
     "data": {
      "text/plain": [
       "(10000, 1)"
      ]
     },
     "execution_count": 17,
     "metadata": {},
     "output_type": "execute_result"
    }
   ],
   "source": [
    "training_set_scaled.shape"
   ]
  },
  {
   "cell_type": "code",
   "execution_count": 18,
   "id": "8a6feae8",
   "metadata": {},
   "outputs": [
    {
     "name": "stdout",
     "output_type": "stream",
     "text": [
      "32.0\n"
     ]
    },
    {
     "data": {
      "text/plain": [
       "96.0"
      ]
     },
     "execution_count": 18,
     "metadata": {},
     "output_type": "execute_result"
    }
   ],
   "source": [
    "print(480/15)\n",
    "3 * 480 / 15"
   ]
  },
  {
   "cell_type": "code",
   "execution_count": 19,
   "id": "10ba4f8b",
   "metadata": {},
   "outputs": [
    {
     "data": {
      "text/plain": [
       "(9871, 32, 1)"
      ]
     },
     "execution_count": 19,
     "metadata": {},
     "output_type": "execute_result"
    }
   ],
   "source": [
    "minutesAgoUpperBound = 96\n",
    "minutesAgoLowerBound = 128\n",
    "\n",
    "featureSize = minutesAgoLowerBound - minutesAgoUpperBound\n",
    "\n",
    "minutespredict = 1\n",
    "X_train = []\n",
    "y_train = []\n",
    "for i in range(minutesAgoLowerBound, 10000 - minutespredict):\n",
    "    X_train.append(training_set_scaled[i - minutesAgoLowerBound:i-minutesAgoUpperBound, 0])\n",
    "    y_train.append(training_set_scaled[i])\n",
    "X_train, y_train = np.array(X_train), np.array(y_train)\n",
    "X_train = np.reshape(X_train, (X_train.shape[0], X_train.shape[1], 1))\n",
    "X_train.shape"
   ]
  },
  {
   "cell_type": "code",
   "execution_count": 20,
   "id": "24c2ca52",
   "metadata": {},
   "outputs": [
    {
     "data": {
      "text/plain": [
       "(9871, 1)"
      ]
     },
     "execution_count": 20,
     "metadata": {},
     "output_type": "execute_result"
    }
   ],
   "source": [
    "y_train.shape"
   ]
  },
  {
   "cell_type": "code",
   "execution_count": 21,
   "id": "faa03084",
   "metadata": {},
   "outputs": [
    {
     "name": "stderr",
     "output_type": "stream",
     "text": [
      "2022-09-19 15:12:40.771331: W tensorflow/stream_executor/platform/default/dso_loader.cc:64] Could not load dynamic library 'libcudart.so.11.0'; dlerror: libcudart.so.11.0: cannot open shared object file: No such file or directory\n",
      "2022-09-19 15:12:40.771365: I tensorflow/stream_executor/cuda/cudart_stub.cc:29] Ignore above cudart dlerror if you do not have a GPU set up on your machine.\n"
     ]
    }
   ],
   "source": [
    "from keras.models import Sequential\n",
    "from keras.layers import LSTM\n",
    "from keras.layers import Dropout\n",
    "from keras.layers import Dense"
   ]
  },
  {
   "cell_type": "code",
   "execution_count": 24,
   "id": "65e67c55",
   "metadata": {
    "scrolled": false
   },
   "outputs": [
    {
     "name": "stdout",
     "output_type": "stream",
     "text": [
      "Model: \"sequential_1\"\n",
      "_________________________________________________________________\n",
      " Layer (type)                Output Shape              Param #   \n",
      "=================================================================\n",
      " lstm_4 (LSTM)               (None, 32, 30)            3840      \n",
      "                                                                 \n",
      " lstm_5 (LSTM)               (None, 32, 30)            7320      \n",
      "                                                                 \n",
      " lstm_6 (LSTM)               (None, 32, 30)            7320      \n",
      "                                                                 \n",
      " dropout_2 (Dropout)         (None, 32, 30)            0         \n",
      "                                                                 \n",
      " lstm_7 (LSTM)               (None, 30)                7320      \n",
      "                                                                 \n",
      " dropout_3 (Dropout)         (None, 30)                0         \n",
      "                                                                 \n",
      " dense_1 (Dense)             (None, 1)                 31        \n",
      "                                                                 \n",
      "=================================================================\n",
      "Total params: 25,831\n",
      "Trainable params: 25,831\n",
      "Non-trainable params: 0\n",
      "_________________________________________________________________\n"
     ]
    }
   ],
   "source": [
    "model = Sequential()\n",
    "model.add(LSTM(units=30,return_sequences=True,input_shape=(X_train.shape[1], 1)))\n",
    "# model.add(Dropout(0.2))\n",
    "model.add(LSTM(units=30,return_sequences=True))\n",
    "# model.add(Dropout(0.2))\n",
    "model.add(LSTM(units=30,return_sequences=True))\n",
    "model.add(Dropout(0.2))\n",
    "model.add(LSTM(units=30))\n",
    "model.add(Dropout(0.2))\n",
    "# model.add(Dense(units=minutespredict))\n",
    "model.add(Dense(units=1))\n",
    "model.compile(optimizer='adam',loss='mean_squared_error')\n",
    "model.summary()"
   ]
  },
  {
   "cell_type": "code",
   "execution_count": 26,
   "id": "3e7d5041",
   "metadata": {
    "scrolled": true
   },
   "outputs": [],
   "source": [
    "# model.load_weights('4layerLSTM_2DropOut.h5')\n",
    "model.fit(X_train,y_train,epochs=100, batch_size=1000)"
   ]
  },
  {
   "cell_type": "code",
   "execution_count": 39,
   "id": "577390ad",
   "metadata": {},
   "outputs": [],
   "source": [
    "model.save('4layerLSTM_2DropOut.h5')"
   ]
  },
  {
   "cell_type": "code",
   "execution_count": 27,
   "id": "16e6e414",
   "metadata": {},
   "outputs": [
    {
     "data": {
      "text/plain": [
       "array([609481, 629571, 629000, ..., 876344, 835274, 824022])"
      ]
     },
     "execution_count": 27,
     "metadata": {},
     "output_type": "execute_result"
    }
   ],
   "source": [
    "# url = 'https://raw.githubusercontent.com/mwitiderrick/stockprice/master/tatatest.csv'\n",
    "# dataset_test = pd.read_csv(url)\n",
    "# real_stock_price = dataset_test.iloc[:, 1:2].values\n",
    "real_Consumption = training_set[10000:]\n",
    "# real_Consumption = sc.transform(real_Consumption.reshape(-1,1))\n",
    "real_Consumption"
   ]
  },
  {
   "cell_type": "code",
   "execution_count": 28,
   "id": "f14322cb",
   "metadata": {},
   "outputs": [],
   "source": [
    "# minutespredict = 480\n",
    "# minutesAgo = 100"
   ]
  },
  {
   "cell_type": "code",
   "execution_count": 29,
   "id": "b93287fc",
   "metadata": {},
   "outputs": [],
   "source": [
    "# training_set[10000 - minutesAgoLowerBound:].shape"
   ]
  },
  {
   "cell_type": "code",
   "execution_count": 33,
   "id": "ceca9936",
   "metadata": {},
   "outputs": [
    {
     "data": {
      "text/plain": [
       "(4496, 32, 1)"
      ]
     },
     "execution_count": 33,
     "metadata": {},
     "output_type": "execute_result"
    }
   ],
   "source": [
    "# dataset_total = pd.concat((dataset_train['Open'], dataset_test['Open']), axis = 0)\n",
    "# inputs = dataset_train[len(dataset_total) - len(dataset_test) - 60:].values\n",
    "inputs = training_set[10000 - minutesAgoLowerBound:]\n",
    "inputs = inputs.reshape(-1, 1)\n",
    "inputs = sc.transform(inputs)\n",
    "X_test = []\n",
    "for i in range(minutesAgoLowerBound, len(inputs)):\n",
    "    X_test.append(inputs[i-minutesAgoLowerBound:i-minutesAgoUpperBound, 0])\n",
    "X_test = np.array(X_test)\n",
    "X_test = np.reshape(X_test, (X_test.shape[0], X_test.shape[1], 1))\n",
    "X_test.shape"
   ]
  },
  {
   "cell_type": "code",
   "execution_count": 34,
   "id": "5a65f67d",
   "metadata": {},
   "outputs": [
    {
     "data": {
      "text/plain": [
       "0.0727355"
      ]
     },
     "execution_count": 34,
     "metadata": {},
     "output_type": "execute_result"
    }
   ],
   "source": [
    "predicted_Consumption = model.predict(X_test)\n",
    "# predicted_Consumption = sc.inverse_transform(predicted_Consumption)\n",
    "predicted_Consumption.min()"
   ]
  },
  {
   "cell_type": "code",
   "execution_count": 39,
   "id": "f7aefd89",
   "metadata": {},
   "outputs": [
    {
     "data": {
      "image/png": "[encoded data removed]",
      "text/plain": [
       "<Figure size 432x288 with 1 Axes>"
      ]
     },
     "metadata": {
      "needs_background": "light"
     },
     "output_type": "display_data"
    }
   ],
   "source": [
    "\n",
    "plt.plot(real_Consumption[:32], color = 'black', label = 'Elec Consumption')\n",
    "plt.plot(sc.inverse_transform(predicted_Consumption[:32]), color = 'green', label = 'Predicted Elec Consumption')\n",
    "plt.title('Electricity Consumption Prediction')\n",
    "plt.xlabel('Time')\n",
    "plt.ylabel('Elec Consumption')\n",
    "plt.legend()\n",
    "plt.show()"
   ]
  },
  {
   "cell_type": "code",
   "execution_count": 43,
   "id": "87dab052",
   "metadata": {},
   "outputs": [
    {
     "name": "stdout",
     "output_type": "stream",
     "text": [
      "mse:  3290452481.6833496\n",
      "RMSE:  57362.465791520415\n"
     ]
    }
   ],
   "source": [
    "from sklearn.metrics import mean_squared_error\n",
    "import math\n",
    "\n",
    "MSE = mean_squared_error(real_Consumption[:32], sc.inverse_transform(predicted_Consumption[:32]))\n",
    "print('mse: ', MSE)\n",
    "print('RMSE: ', math.sqrt(MSE))"
   ]
  },
  {
   "cell_type": "code",
   "execution_count": 46,
   "id": "07683d19",
   "metadata": {},
   "outputs": [
    {
     "data": {
      "text/plain": [
       "4"
      ]
     },
     "execution_count": 46,
     "metadata": {},
     "output_type": "execute_result"
    }
   ],
   "source": [
    "2500%24"
   ]
  }
 ],
 "metadata": {
  "kernelspec": {
   "display_name": "Python 3 (ipykernel)",
   "language": "python",
   "name": "python3"
  },
  "language_info": {
   "codemirror_mode": {
    "name": "ipython",
    "version": 3
   },
   "file_extension": ".py",
   "mimetype": "text/x-python",
   "name": "python",
   "nbconvert_exporter": "python",
   "pygments_lexer": "ipython3",
   "version": "3.8.10"
  }
 },
 "nbformat": 4,
 "nbformat_minor": 5
}
