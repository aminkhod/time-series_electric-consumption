{
 "cells": [
  {
   "cell_type": "code",
   "execution_count": 1,
   "id": "f203bb87",
   "metadata": {},
   "outputs": [],
   "source": [
    "import numpy as np\n",
    "import pandas as pd\n",
    "\n",
    "import matplotlib.pyplot as plt\n",
    "import seaborn as sns\n"
   ]
  },
  {
   "cell_type": "code",
   "execution_count": 2,
   "id": "14e5408f",
   "metadata": {},
   "outputs": [
    {
     "data": {
      "text/html": [
       "<div>\n",
       "<style scoped>\n",
       "    .dataframe tbody tr th:only-of-type {\n",
       "        vertical-align: middle;\n",
       "    }\n",
       "\n",
       "    .dataframe tbody tr th {\n",
       "        vertical-align: top;\n",
       "    }\n",
       "\n",
       "    .dataframe thead th {\n",
       "        text-align: right;\n",
       "    }\n",
       "</style>\n",
       "<table border=\"1\" class=\"dataframe\">\n",
       "  <thead>\n",
       "    <tr style=\"text-align: right;\">\n",
       "      <th></th>\n",
       "      <th>Consumption</th>\n",
       "      <th>next 8 hour</th>\n",
       "    </tr>\n",
       "  </thead>\n",
       "  <tbody>\n",
       "    <tr>\n",
       "      <th>0</th>\n",
       "      <td>56443</td>\n",
       "      <td>43926.143750</td>\n",
       "    </tr>\n",
       "    <tr>\n",
       "      <th>1</th>\n",
       "      <td>51642</td>\n",
       "      <td>43902.985417</td>\n",
       "    </tr>\n",
       "    <tr>\n",
       "      <th>2</th>\n",
       "      <td>51757</td>\n",
       "      <td>43891.245833</td>\n",
       "    </tr>\n",
       "    <tr>\n",
       "      <th>3</th>\n",
       "      <td>51521</td>\n",
       "      <td>43879.418750</td>\n",
       "    </tr>\n",
       "    <tr>\n",
       "      <th>4</th>\n",
       "      <td>51295</td>\n",
       "      <td>43867.204167</td>\n",
       "    </tr>\n",
       "  </tbody>\n",
       "</table>\n",
       "</div>"
      ],
      "text/plain": [
       "   Consumption   next 8 hour\n",
       "0        56443  43926.143750\n",
       "1        51642  43902.985417\n",
       "2        51757  43891.245833\n",
       "3        51521  43879.418750\n",
       "4        51295  43867.204167"
      ]
     },
     "execution_count": 2,
     "metadata": {},
     "output_type": "execute_result"
    }
   ],
   "source": [
    "dataset_train = pd.read_excel('demand_jan_maio.xlsx')\n",
    "dataset_train.head()"
   ]
  },
  {
   "cell_type": "code",
   "execution_count": 3,
   "id": "75b07b71",
   "metadata": {},
   "outputs": [
    {
     "data": {
      "text/plain": [
       "14496.0"
      ]
     },
     "execution_count": 3,
     "metadata": {},
     "output_type": "execute_result"
    }
   ],
   "source": [
    "training_set = []\n",
    "Consumption = dataset_train['Consumption']\n",
    "for i in range(int(len(dataset_train)/15)):\n",
    "    training_set.append(sum(Consumption[i*15:(i*15)+15]))\n",
    "217440/15"
   ]
  },
  {
   "cell_type": "code",
   "execution_count": 4,
   "id": "10b8da17",
   "metadata": {},
   "outputs": [],
   "source": [
    "# training_set = dataset_train.iloc[:, 0:1].values\n"
   ]
  },
  {
   "cell_type": "code",
   "execution_count": 5,
   "id": "aaabdd6f",
   "metadata": {},
   "outputs": [
    {
     "data": {
      "text/plain": [
       "(217440, 2)"
      ]
     },
     "execution_count": 5,
     "metadata": {},
     "output_type": "execute_result"
    }
   ],
   "source": [
    "dataset_train.shape"
   ]
  },
  {
   "cell_type": "code",
   "execution_count": 6,
   "id": "c1b5b6b4",
   "metadata": {},
   "outputs": [
    {
     "data": {
      "text/html": [
       "<div>\n",
       "<style scoped>\n",
       "    .dataframe tbody tr th:only-of-type {\n",
       "        vertical-align: middle;\n",
       "    }\n",
       "\n",
       "    .dataframe tbody tr th {\n",
       "        vertical-align: top;\n",
       "    }\n",
       "\n",
       "    .dataframe thead th {\n",
       "        text-align: right;\n",
       "    }\n",
       "</style>\n",
       "<table border=\"1\" class=\"dataframe\">\n",
       "  <thead>\n",
       "    <tr style=\"text-align: right;\">\n",
       "      <th></th>\n",
       "      <th>Consumption</th>\n",
       "      <th>next 8 hour</th>\n",
       "    </tr>\n",
       "  </thead>\n",
       "  <tbody>\n",
       "    <tr>\n",
       "      <th>0</th>\n",
       "      <td>56443</td>\n",
       "      <td>43926.143750</td>\n",
       "    </tr>\n",
       "    <tr>\n",
       "      <th>1</th>\n",
       "      <td>51642</td>\n",
       "      <td>43902.985417</td>\n",
       "    </tr>\n",
       "    <tr>\n",
       "      <th>2</th>\n",
       "      <td>51757</td>\n",
       "      <td>43891.245833</td>\n",
       "    </tr>\n",
       "    <tr>\n",
       "      <th>3</th>\n",
       "      <td>51521</td>\n",
       "      <td>43879.418750</td>\n",
       "    </tr>\n",
       "    <tr>\n",
       "      <th>4</th>\n",
       "      <td>51295</td>\n",
       "      <td>43867.204167</td>\n",
       "    </tr>\n",
       "  </tbody>\n",
       "</table>\n",
       "</div>"
      ],
      "text/plain": [
       "   Consumption   next 8 hour\n",
       "0        56443  43926.143750\n",
       "1        51642  43902.985417\n",
       "2        51757  43891.245833\n",
       "3        51521  43879.418750\n",
       "4        51295  43867.204167"
      ]
     },
     "execution_count": 6,
     "metadata": {},
     "output_type": "execute_result"
    }
   ],
   "source": [
    "dataset_train.head()\n"
   ]
  },
  {
   "cell_type": "code",
   "execution_count": 7,
   "id": "2160e447",
   "metadata": {},
   "outputs": [
    {
     "data": {
      "text/plain": [
       "(14496,)"
      ]
     },
     "execution_count": 7,
     "metadata": {},
     "output_type": "execute_result"
    }
   ],
   "source": [
    "training_set = np.array(training_set)\n",
    "training_set.shape"
   ]
  },
  {
   "cell_type": "code",
   "execution_count": 8,
   "id": "0dc5265d",
   "metadata": {},
   "outputs": [
    {
     "data": {
      "text/plain": [
       "<seaborn.axisgrid.FacetGrid at 0x7f7bc980fd90>"
      ]
     },
     "execution_count": 8,
     "metadata": {},
     "output_type": "execute_result"
    },
    {
     "data": {
      "image/png": "[encoded data removed]",
      "text/plain": [
       "<Figure size 360x360 with 1 Axes>"
      ]
     },
     "metadata": {
      "needs_background": "light"
     },
     "output_type": "display_data"
    }
   ],
   "source": [
    "sns.displot(training_set[:10000])"
   ]
  },
  {
   "cell_type": "code",
   "execution_count": 9,
   "id": "fb2d0940",
   "metadata": {},
   "outputs": [
    {
     "name": "stderr",
     "output_type": "stream",
     "text": [
      "/home/aminuninnova/.local/lib/python3.8/site-packages/seaborn/_decorators.py:36: FutureWarning: Pass the following variable as a keyword arg: x. From version 0.12, the only valid positional argument will be `data`, and passing other arguments without an explicit keyword will result in an error or misinterpretation.\n",
      "  warnings.warn(\n"
     ]
    },
    {
     "data": {
      "text/plain": [
       "<AxesSubplot:>"
      ]
     },
     "execution_count": 9,
     "metadata": {},
     "output_type": "execute_result"
    },
    {
     "data": {
      "image/png": "[encoded data removed]",
      "text/plain": [
       "<Figure size 432x288 with 1 Axes>"
      ]
     },
     "metadata": {
      "needs_background": "light"
     },
     "output_type": "display_data"
    }
   ],
   "source": [
    "sns.boxplot(training_set[:10000], showmeans=True)"
   ]
  },
  {
   "cell_type": "code",
   "execution_count": 10,
   "id": "863b36d5",
   "metadata": {},
   "outputs": [
    {
     "data": {
      "text/plain": [
       "0    1842000.0\n",
       "Name: 1.0, dtype: float64"
      ]
     },
     "execution_count": 10,
     "metadata": {},
     "output_type": "execute_result"
    }
   ],
   "source": [
    "pd.DataFrame(training_set[:10000]).quantile(1)"
   ]
  },
  {
   "cell_type": "code",
   "execution_count": 11,
   "id": "6a97ffd6",
   "metadata": {},
   "outputs": [
    {
     "name": "stdout",
     "output_type": "stream",
     "text": [
      "1842000\n"
     ]
    }
   ],
   "source": [
    "print(max(training_set[:10000]))"
   ]
  },
  {
   "cell_type": "code",
   "execution_count": 12,
   "id": "7b65178c",
   "metadata": {},
   "outputs": [
    {
     "name": "stdout",
     "output_type": "stream",
     "text": [
      "841602.8123 232073.30087586006\n"
     ]
    },
    {
     "data": {
      "text/plain": [
       "array([-0.30135656, -0.39616282, -0.43789963, ..., -0.98055576,\n",
       "       -0.93773308, -0.87093092])"
      ]
     },
     "execution_count": 12,
     "metadata": {},
     "output_type": "execute_result"
    }
   ],
   "source": [
    "mu = np.mean(training_set[:10000])\n",
    "std = np.std(training_set[:10000])\n",
    "print(mu , std)\n",
    "training_set_scaled = (training_set[:10000] - mu) / std\n",
    "training_set_scaled"
   ]
  },
  {
   "cell_type": "code",
   "execution_count": 13,
   "id": "a6b3dc72",
   "metadata": {},
   "outputs": [
    {
     "data": {
      "text/plain": [
       "<seaborn.axisgrid.FacetGrid at 0x7f7bc97a0400>"
      ]
     },
     "execution_count": 13,
     "metadata": {},
     "output_type": "execute_result"
    },
    {
     "data": {
      "image/png": "[encoded data removed]",
      "text/plain": [
       "<Figure size 360x360 with 1 Axes>"
      ]
     },
     "metadata": {
      "needs_background": "light"
     },
     "output_type": "display_data"
    }
   ],
   "source": [
    "sns.displot(np.log(training_set))"
   ]
  },
  {
   "cell_type": "code",
   "execution_count": 14,
   "id": "0bbd7f01",
   "metadata": {},
   "outputs": [
    {
     "data": {
      "text/plain": [
       "array([[0.18681347],\n",
       "       [0.17009745],\n",
       "       [0.1627385 ],\n",
       "       ...,\n",
       "       [0.0670586 ],\n",
       "       [0.07460899],\n",
       "       [0.0863874 ]])"
      ]
     },
     "execution_count": 14,
     "metadata": {},
     "output_type": "execute_result"
    }
   ],
   "source": [
    "from sklearn.preprocessing import MinMaxScaler\n",
    "sc = MinMaxScaler(feature_range=(0, 1))\n",
    "training_set_scaled = sc.fit_transform(training_set[:10000].reshape(-1,1))\n",
    "training_set_scaled"
   ]
  },
  {
   "cell_type": "code",
   "execution_count": 15,
   "id": "4c36308f",
   "metadata": {},
   "outputs": [
    {
     "data": {
      "text/plain": [
       "<seaborn.axisgrid.FacetGrid at 0x7f7bc903b7c0>"
      ]
     },
     "execution_count": 15,
     "metadata": {},
     "output_type": "execute_result"
    },
    {
     "data": {
      "image/png": "[encoded data removed]",
      "text/plain": [
       "<Figure size 402.25x360 with 1 Axes>"
      ]
     },
     "metadata": {
      "needs_background": "light"
     },
     "output_type": "display_data"
    }
   ],
   "source": [
    "sns.displot(training_set_scaled)"
   ]
  },
  {
   "cell_type": "code",
   "execution_count": 16,
   "id": "53135f2d",
   "metadata": {},
   "outputs": [],
   "source": [
    "# from sklearn.preprocessing import MinMaxScaler\n",
    "# sc = MinMaxScaler(feature_range=(0, 1))\n",
    "# training_set_scaled = sc.fit_transform(training_set[:10000].reshape(-1,1))\n",
    "# training_set_scaled"
   ]
  },
  {
   "cell_type": "code",
   "execution_count": 17,
   "id": "a1ccee95",
   "metadata": {},
   "outputs": [
    {
     "data": {
      "text/plain": [
       "(10000, 1)"
      ]
     },
     "execution_count": 17,
     "metadata": {},
     "output_type": "execute_result"
    }
   ],
   "source": [
    "training_set_scaled.shape"
   ]
  },
  {
   "cell_type": "code",
   "execution_count": 18,
   "id": "8a6feae8",
   "metadata": {},
   "outputs": [
    {
     "name": "stdout",
     "output_type": "stream",
     "text": [
      "32.0\n"
     ]
    },
    {
     "data": {
      "text/plain": [
       "96.0"
      ]
     },
     "execution_count": 18,
     "metadata": {},
     "output_type": "execute_result"
    }
   ],
   "source": [
    "print(480/15)\n",
    "3 * 480 / 15"
   ]
  },
  {
   "cell_type": "code",
   "execution_count": 19,
   "id": "10ba4f8b",
   "metadata": {},
   "outputs": [
    {
     "data": {
      "text/plain": [
       "(9871, 32, 1)"
      ]
     },
     "execution_count": 19,
     "metadata": {},
     "output_type": "execute_result"
    }
   ],
   "source": [
    "minutesAgoUpperBound = 96\n",
    "minutesAgoLowerBound = 128\n",
    "\n",
    "featureSize = minutesAgoLowerBound - minutesAgoUpperBound\n",
    "\n",
    "minutespredict = 1\n",
    "X_train = []\n",
    "y_train = []\n",
    "for i in range(minutesAgoLowerBound, 10000 - minutespredict):\n",
    "    X_train.append(training_set_scaled[i - minutesAgoLowerBound:i-minutesAgoUpperBound, 0])\n",
    "    y_train.append(training_set_scaled[i])\n",
    "X_train, y_train = np.array(X_train), np.array(y_train)\n",
    "X_train = np.reshape(X_train, (X_train.shape[0], X_train.shape[1], 1))\n",
    "X_train.shape"
   ]
  },
  {
   "cell_type": "code",
   "execution_count": 20,
   "id": "24c2ca52",
   "metadata": {},
   "outputs": [
    {
     "data": {
      "text/plain": [
       "(9871, 1)"
      ]
     },
     "execution_count": 20,
     "metadata": {},
     "output_type": "execute_result"
    }
   ],
   "source": [
    "y_train.shape"
   ]
  },
  {
   "cell_type": "code",
   "execution_count": 21,
   "id": "faa03084",
   "metadata": {},
   "outputs": [
    {
     "name": "stderr",
     "output_type": "stream",
     "text": [
      "2022-09-16 16:42:58.279312: W tensorflow/stream_executor/platform/default/dso_loader.cc:64] Could not load dynamic library 'libcudart.so.11.0'; dlerror: libcudart.so.11.0: cannot open shared object file: No such file or directory\n",
      "2022-09-16 16:42:58.279345: I tensorflow/stream_executor/cuda/cudart_stub.cc:29] Ignore above cudart dlerror if you do not have a GPU set up on your machine.\n"
     ]
    }
   ],
   "source": [
    "from keras.models import Sequential\n",
    "from keras.layers import LSTM\n",
    "from keras.layers import Dropout\n",
    "from keras.layers import Dense"
   ]
  },
  {
   "cell_type": "code",
   "execution_count": 22,
   "id": "65e67c55",
   "metadata": {
    "scrolled": false
   },
   "outputs": [
    {
     "name": "stderr",
     "output_type": "stream",
     "text": [
      "2022-09-16 16:42:59.881891: W tensorflow/stream_executor/platform/default/dso_loader.cc:64] Could not load dynamic library 'libcuda.so.1'; dlerror: libcuda.so.1: cannot open shared object file: No such file or directory\n",
      "2022-09-16 16:42:59.881908: W tensorflow/stream_executor/cuda/cuda_driver.cc:269] failed call to cuInit: UNKNOWN ERROR (303)\n",
      "2022-09-16 16:42:59.881921: I tensorflow/stream_executor/cuda/cuda_diagnostics.cc:156] kernel driver does not appear to be running on this host (a-ZenBook): /proc/driver/nvidia/version does not exist\n",
      "2022-09-16 16:42:59.882393: I tensorflow/core/platform/cpu_feature_guard.cc:151] This TensorFlow binary is optimized with oneAPI Deep Neural Network Library (oneDNN) to use the following CPU instructions in performance-critical operations:  AVX2 AVX512F FMA\n",
      "To enable them in other operations, rebuild TensorFlow with the appropriate compiler flags.\n"
     ]
    },
    {
     "name": "stdout",
     "output_type": "stream",
     "text": [
      "Model: \"sequential\"\n",
      "_________________________________________________________________\n",
      " Layer (type)                Output Shape              Param #   \n",
      "=================================================================\n",
      " lstm (LSTM)                 (None, 32, 30)            3840      \n",
      "                                                                 \n",
      " lstm_1 (LSTM)               (None, 32, 30)            7320      \n",
      "                                                                 \n",
      " lstm_2 (LSTM)               (None, 32, 30)            7320      \n",
      "                                                                 \n",
      " dropout (Dropout)           (None, 32, 30)            0         \n",
      "                                                                 \n",
      " lstm_3 (LSTM)               (None, 30)                7320      \n",
      "                                                                 \n",
      " dropout_1 (Dropout)         (None, 30)                0         \n",
      "                                                                 \n",
      " dense (Dense)               (None, 1)                 31        \n",
      "                                                                 \n",
      "=================================================================\n",
      "Total params: 25,831\n",
      "Trainable params: 25,831\n",
      "Non-trainable params: 0\n",
      "_________________________________________________________________\n"
     ]
    }
   ],
   "source": [
    "model = Sequential()\n",
    "model.add(LSTM(units=30,return_sequences=True,input_shape=(X_train.shape[1], 1)))\n",
    "# model.add(Dropout(0.2))\n",
    "model.add(LSTM(units=30,return_sequences=True))\n",
    "# model.add(Dropout(0.2))\n",
    "model.add(LSTM(units=30,return_sequences=True))\n",
    "model.add(Dropout(0.2))\n",
    "model.add(LSTM(units=30))\n",
    "model.add(Dropout(0.2))\n",
    "# model.add(Dense(units=minutespredict))\n",
    "model.add(Dense(units=1))\n",
    "model.compile(optimizer='adam',loss='mean_squared_error')\n",
    "model.summary()"
   ]
  },
  {
   "cell_type": "code",
   "execution_count": 23,
   "id": "3e7d5041",
   "metadata": {
    "scrolled": true
   },
   "outputs": [
    {
     "name": "stdout",
     "output_type": "stream",
     "text": [
      "Epoch 1/100\n",
      "10/10 [==============================] - 4s 119ms/step - loss: 0.0529\n",
      "Epoch 2/100\n",
      "10/10 [==============================] - 1s 108ms/step - loss: 0.0311\n",
      "Epoch 3/100\n",
      "10/10 [==============================] - 1s 109ms/step - loss: 0.0288\n",
      "Epoch 4/100\n",
      "10/10 [==============================] - 1s 107ms/step - loss: 0.0279\n",
      "Epoch 5/100\n",
      "10/10 [==============================] - 1s 109ms/step - loss: 0.0268\n",
      "Epoch 6/100\n",
      "10/10 [==============================] - 1s 108ms/step - loss: 0.0251\n",
      "Epoch 7/100\n",
      "10/10 [==============================] - 1s 111ms/step - loss: 0.0235\n",
      "Epoch 8/100\n",
      "10/10 [==============================] - 1s 116ms/step - loss: 0.0229\n",
      "Epoch 9/100\n",
      "10/10 [==============================] - 1s 113ms/step - loss: 0.0225\n",
      "Epoch 10/100\n",
      "10/10 [==============================] - 1s 110ms/step - loss: 0.0222\n",
      "Epoch 11/100\n",
      "10/10 [==============================] - 1s 113ms/step - loss: 0.0221\n",
      "Epoch 12/100\n",
      "10/10 [==============================] - 1s 106ms/step - loss: 0.0217\n",
      "Epoch 13/100\n",
      "10/10 [==============================] - 1s 108ms/step - loss: 0.0216\n",
      "Epoch 14/100\n",
      "10/10 [==============================] - 1s 114ms/step - loss: 0.0215\n",
      "Epoch 15/100\n",
      "10/10 [==============================] - 1s 111ms/step - loss: 0.0214\n",
      "Epoch 16/100\n",
      "10/10 [==============================] - 1s 111ms/step - loss: 0.0210\n",
      "Epoch 17/100\n",
      "10/10 [==============================] - 1s 129ms/step - loss: 0.0208\n",
      "Epoch 18/100\n",
      "10/10 [==============================] - 1s 126ms/step - loss: 0.0207\n",
      "Epoch 19/100\n",
      "10/10 [==============================] - 1s 120ms/step - loss: 0.0206\n",
      "Epoch 20/100\n",
      "10/10 [==============================] - 1s 106ms/step - loss: 0.0205\n",
      "Epoch 21/100\n",
      "10/10 [==============================] - 1s 110ms/step - loss: 0.0205\n",
      "Epoch 22/100\n",
      "10/10 [==============================] - 1s 109ms/step - loss: 0.0203\n",
      "Epoch 23/100\n",
      "10/10 [==============================] - 1s 109ms/step - loss: 0.0201\n",
      "Epoch 24/100\n",
      "10/10 [==============================] - 1s 107ms/step - loss: 0.0198\n",
      "Epoch 25/100\n",
      "10/10 [==============================] - 1s 106ms/step - loss: 0.0199\n",
      "Epoch 26/100\n",
      "10/10 [==============================] - 1s 109ms/step - loss: 0.0198\n",
      "Epoch 27/100\n",
      "10/10 [==============================] - 1s 109ms/step - loss: 0.0198\n",
      "Epoch 28/100\n",
      "10/10 [==============================] - 1s 107ms/step - loss: 0.0197\n",
      "Epoch 29/100\n",
      "10/10 [==============================] - 1s 106ms/step - loss: 0.0199\n",
      "Epoch 30/100\n",
      "10/10 [==============================] - 1s 107ms/step - loss: 0.0197\n",
      "Epoch 31/100\n",
      "10/10 [==============================] - 1s 113ms/step - loss: 0.0196\n",
      "Epoch 32/100\n",
      "10/10 [==============================] - 1s 106ms/step - loss: 0.0199\n",
      "Epoch 33/100\n",
      "10/10 [==============================] - 1s 107ms/step - loss: 0.0197\n",
      "Epoch 34/100\n",
      "10/10 [==============================] - 1s 107ms/step - loss: 0.0193\n",
      "Epoch 35/100\n",
      "10/10 [==============================] - 1s 108ms/step - loss: 0.0196\n",
      "Epoch 36/100\n",
      "10/10 [==============================] - 1s 109ms/step - loss: 0.0194\n",
      "Epoch 37/100\n",
      "10/10 [==============================] - 1s 107ms/step - loss: 0.0191\n",
      "Epoch 38/100\n",
      "10/10 [==============================] - 1s 107ms/step - loss: 0.0193\n",
      "Epoch 39/100\n",
      "10/10 [==============================] - 1s 107ms/step - loss: 0.0191\n",
      "Epoch 40/100\n",
      "10/10 [==============================] - 1s 106ms/step - loss: 0.0192\n",
      "Epoch 41/100\n",
      "10/10 [==============================] - 1s 108ms/step - loss: 0.0189\n",
      "Epoch 42/100\n",
      "10/10 [==============================] - 1s 106ms/step - loss: 0.0186\n",
      "Epoch 43/100\n",
      "10/10 [==============================] - 1s 107ms/step - loss: 0.0186\n",
      "Epoch 44/100\n",
      "10/10 [==============================] - 1s 105ms/step - loss: 0.0183\n",
      "Epoch 45/100\n",
      "10/10 [==============================] - 1s 107ms/step - loss: 0.0182\n",
      "Epoch 46/100\n",
      "10/10 [==============================] - 1s 106ms/step - loss: 0.0181\n",
      "Epoch 47/100\n",
      "10/10 [==============================] - 1s 107ms/step - loss: 0.0181\n",
      "Epoch 48/100\n",
      "10/10 [==============================] - 1s 108ms/step - loss: 0.0180\n",
      "Epoch 49/100\n",
      "10/10 [==============================] - 1s 107ms/step - loss: 0.0179\n",
      "Epoch 50/100\n",
      "10/10 [==============================] - 1s 106ms/step - loss: 0.0174\n",
      "Epoch 51/100\n",
      "10/10 [==============================] - 1s 107ms/step - loss: 0.0176\n",
      "Epoch 52/100\n",
      "10/10 [==============================] - 1s 107ms/step - loss: 0.0175\n",
      "Epoch 53/100\n",
      "10/10 [==============================] - 1s 106ms/step - loss: 0.0174\n",
      "Epoch 54/100\n",
      "10/10 [==============================] - 1s 106ms/step - loss: 0.0175\n",
      "Epoch 55/100\n",
      "10/10 [==============================] - 1s 108ms/step - loss: 0.0174\n",
      "Epoch 56/100\n",
      "10/10 [==============================] - 1s 107ms/step - loss: 0.0173\n",
      "Epoch 57/100\n",
      "10/10 [==============================] - 1s 108ms/step - loss: 0.0172\n",
      "Epoch 58/100\n",
      "10/10 [==============================] - 1s 107ms/step - loss: 0.0173\n",
      "Epoch 59/100\n",
      "10/10 [==============================] - 1s 107ms/step - loss: 0.0174\n",
      "Epoch 60/100\n",
      "10/10 [==============================] - 1s 108ms/step - loss: 0.0176\n",
      "Epoch 61/100\n",
      "10/10 [==============================] - 1s 106ms/step - loss: 0.0172\n",
      "Epoch 62/100\n",
      "10/10 [==============================] - 1s 107ms/step - loss: 0.0170\n",
      "Epoch 63/100\n",
      "10/10 [==============================] - 1s 107ms/step - loss: 0.0171\n",
      "Epoch 64/100\n",
      "10/10 [==============================] - 1s 107ms/step - loss: 0.0171\n",
      "Epoch 65/100\n",
      "10/10 [==============================] - 1s 107ms/step - loss: 0.0172\n",
      "Epoch 66/100\n",
      "10/10 [==============================] - 1s 106ms/step - loss: 0.0171\n",
      "Epoch 67/100\n",
      "10/10 [==============================] - 1s 106ms/step - loss: 0.0171\n",
      "Epoch 68/100\n",
      "10/10 [==============================] - 1s 106ms/step - loss: 0.0170\n",
      "Epoch 69/100\n",
      "10/10 [==============================] - 1s 107ms/step - loss: 0.0169\n",
      "Epoch 70/100\n",
      "10/10 [==============================] - 1s 106ms/step - loss: 0.0169\n",
      "Epoch 71/100\n",
      "10/10 [==============================] - 1s 138ms/step - loss: 0.0169\n",
      "Epoch 72/100\n",
      "10/10 [==============================] - 1s 106ms/step - loss: 0.0169\n",
      "Epoch 73/100\n",
      "10/10 [==============================] - 1s 106ms/step - loss: 0.0168\n",
      "Epoch 74/100\n",
      "10/10 [==============================] - 1s 106ms/step - loss: 0.0170\n",
      "Epoch 75/100\n",
      "10/10 [==============================] - 1s 107ms/step - loss: 0.0170\n",
      "Epoch 76/100\n",
      "10/10 [==============================] - 1s 106ms/step - loss: 0.0169\n",
      "Epoch 77/100\n",
      "10/10 [==============================] - 1s 108ms/step - loss: 0.0168\n",
      "Epoch 78/100\n",
      "10/10 [==============================] - 1s 107ms/step - loss: 0.0169\n",
      "Epoch 79/100\n",
      "10/10 [==============================] - 1s 107ms/step - loss: 0.0168\n",
      "Epoch 80/100\n",
      "10/10 [==============================] - 1s 106ms/step - loss: 0.0166\n",
      "Epoch 81/100\n",
      "10/10 [==============================] - 1s 107ms/step - loss: 0.0170\n",
      "Epoch 82/100\n",
      "10/10 [==============================] - 1s 105ms/step - loss: 0.0169\n",
      "Epoch 83/100\n",
      "10/10 [==============================] - 1s 105ms/step - loss: 0.0167\n",
      "Epoch 84/100\n",
      "10/10 [==============================] - 1s 107ms/step - loss: 0.0169\n",
      "Epoch 85/100\n",
      "10/10 [==============================] - 1s 107ms/step - loss: 0.0167\n",
      "Epoch 86/100\n",
      "10/10 [==============================] - 1s 108ms/step - loss: 0.0167\n",
      "Epoch 87/100\n",
      "10/10 [==============================] - 1s 107ms/step - loss: 0.0167\n",
      "Epoch 88/100\n",
      "10/10 [==============================] - 1s 107ms/step - loss: 0.0168\n",
      "Epoch 89/100\n",
      "10/10 [==============================] - 1s 107ms/step - loss: 0.0168\n",
      "Epoch 90/100\n",
      "10/10 [==============================] - 1s 108ms/step - loss: 0.0166\n",
      "Epoch 91/100\n",
      "10/10 [==============================] - 1s 105ms/step - loss: 0.0167\n",
      "Epoch 92/100\n",
      "10/10 [==============================] - 1s 106ms/step - loss: 0.0166\n",
      "Epoch 93/100\n",
      "10/10 [==============================] - 1s 108ms/step - loss: 0.0166\n",
      "Epoch 94/100\n",
      "10/10 [==============================] - 1s 106ms/step - loss: 0.0167\n",
      "Epoch 95/100\n",
      "10/10 [==============================] - 1s 107ms/step - loss: 0.0167\n",
      "Epoch 96/100\n",
      "10/10 [==============================] - 1s 105ms/step - loss: 0.0169\n",
      "Epoch 97/100\n",
      "10/10 [==============================] - 1s 107ms/step - loss: 0.0167\n",
      "Epoch 98/100\n",
      "10/10 [==============================] - 1s 106ms/step - loss: 0.0164\n",
      "Epoch 99/100\n"
     ]
    },
    {
     "name": "stdout",
     "output_type": "stream",
     "text": [
      "10/10 [==============================] - 1s 106ms/step - loss: 0.0165\n",
      "Epoch 100/100\n",
      "10/10 [==============================] - 1s 105ms/step - loss: 0.0167\n"
     ]
    },
    {
     "data": {
      "text/plain": [
       "<keras.callbacks.History at 0x7f7b80098a30>"
      ]
     },
     "execution_count": 23,
     "metadata": {},
     "output_type": "execute_result"
    }
   ],
   "source": [
    "# model.load('4layerLSTM_2DropOut.h5')\n",
    "model.fit(X_train,y_train,epochs=100, batch_size=1000)"
   ]
  },
  {
   "cell_type": "code",
   "execution_count": 39,
   "id": "577390ad",
   "metadata": {},
   "outputs": [],
   "source": [
    "model.save('4layerLSTM_2DropOut.h5')"
   ]
  },
  {
   "cell_type": "code",
   "execution_count": 24,
   "id": "16e6e414",
   "metadata": {},
   "outputs": [
    {
     "data": {
      "text/plain": [
       "array([609481, 629571, 629000, ..., 876344, 835274, 824022])"
      ]
     },
     "execution_count": 24,
     "metadata": {},
     "output_type": "execute_result"
    }
   ],
   "source": [
    "# url = 'https://raw.githubusercontent.com/mwitiderrick/stockprice/master/tatatest.csv'\n",
    "# dataset_test = pd.read_csv(url)\n",
    "# real_stock_price = dataset_test.iloc[:, 1:2].values\n",
    "real_Consumption = training_set[10000:]\n",
    "# real_Consumption = sc.transform(real_Consumption.reshape(-1,1))\n",
    "real_Consumption"
   ]
  },
  {
   "cell_type": "code",
   "execution_count": 25,
   "id": "f14322cb",
   "metadata": {},
   "outputs": [],
   "source": [
    "# minutespredict = 480\n",
    "# minutesAgo = 100"
   ]
  },
  {
   "cell_type": "code",
   "execution_count": 26,
   "id": "b93287fc",
   "metadata": {},
   "outputs": [],
   "source": [
    "# training_set[10000 - minutesAgoLowerBound:].shape"
   ]
  },
  {
   "cell_type": "code",
   "execution_count": 27,
   "id": "ceca9936",
   "metadata": {},
   "outputs": [
    {
     "data": {
      "text/plain": [
       "array([[[0.11168177],\n",
       "        [0.1034947 ],\n",
       "        [0.10956434],\n",
       "        ...,\n",
       "        [0.06492902],\n",
       "        [0.05190462],\n",
       "        [0.06694691]],\n",
       "\n",
       "       [[0.1034947 ],\n",
       "        [0.10956434],\n",
       "        [0.09997174],\n",
       "        ...,\n",
       "        [0.05190462],\n",
       "        [0.06694691],\n",
       "        [0.05566158]],\n",
       "\n",
       "       [[0.10956434],\n",
       "        [0.09997174],\n",
       "        [0.10514944],\n",
       "        ...,\n",
       "        [0.06694691],\n",
       "        [0.05566158],\n",
       "        [0.06112571]],\n",
       "\n",
       "       ...,\n",
       "\n",
       "       [[0.53439465],\n",
       "        [0.54041947],\n",
       "        [0.5118164 ],\n",
       "        ...,\n",
       "        [0.2907663 ],\n",
       "        [0.2941639 ],\n",
       "        [0.3039548 ]],\n",
       "\n",
       "       [[0.54041947],\n",
       "        [0.5118164 ],\n",
       "        [0.46899763],\n",
       "        ...,\n",
       "        [0.2941639 ],\n",
       "        [0.3039548 ],\n",
       "        [0.28985916]],\n",
       "\n",
       "       [[0.5118164 ],\n",
       "        [0.46899763],\n",
       "        [0.47263304],\n",
       "        ...,\n",
       "        [0.3039548 ],\n",
       "        [0.28985916],\n",
       "        [0.30234793]]])"
      ]
     },
     "execution_count": 27,
     "metadata": {},
     "output_type": "execute_result"
    }
   ],
   "source": [
    "# dataset_total = pd.concat((dataset_train['Open'], dataset_test['Open']), axis = 0)\n",
    "# inputs = dataset_train[len(dataset_total) - len(dataset_test) - 60:].values\n",
    "inputs = training_set[10000 - minutesAgoLowerBound:]\n",
    "inputs = inputs.reshape(-1, 1)\n",
    "inputs = sc.transform(inputs)\n",
    "X_test = []\n",
    "for i in range(minutesAgoLowerBound, len(inputs)):\n",
    "    X_test.append(inputs[i-minutesAgoLowerBound:i-minutesAgoUpperBound, 0])\n",
    "X_test = np.array(X_test)\n",
    "X_test = np.reshape(X_test, (X_test.shape[0], X_test.shape[1], 1))\n",
    "X_test"
   ]
  },
  {
   "cell_type": "code",
   "execution_count": 28,
   "id": "5a65f67d",
   "metadata": {},
   "outputs": [
    {
     "data": {
      "text/plain": [
       "0.0727355"
      ]
     },
     "execution_count": 28,
     "metadata": {},
     "output_type": "execute_result"
    }
   ],
   "source": [
    "predicted_Consumption = model.predict(X_test)\n",
    "# predicted_Consumption = sc.inverse_transform(predicted_Consumption)\n",
    "predicted_Consumption.min()"
   ]
  },
  {
   "cell_type": "code",
   "execution_count": 36,
   "id": "f7aefd89",
   "metadata": {},
   "outputs": [
    {
     "data": {
      "image/png": "[encoded data removed]",
      "text/plain": [
       "<Figure size 432x288 with 1 Axes>"
      ]
     },
     "metadata": {
      "needs_background": "light"
     },
     "output_type": "display_data"
    }
   ],
   "source": [
    "\n",
    "plt.plot(real_Consumption[:300], color = 'black', label = 'Elec Consumption')\n",
    "plt.plot(sc.inverse_transform(predicted_Consumption[:300]), color = 'green', label = 'Predicted Elec Consumption')\n",
    "plt.title('Electricity Consumption Prediction')\n",
    "plt.xlabel('Time')\n",
    "plt.ylabel('Elec Consumption')\n",
    "plt.legend()\n",
    "plt.show()"
   ]
  },
  {
   "cell_type": "code",
   "execution_count": 34,
   "id": "87dab052",
   "metadata": {},
   "outputs": [
    {
     "name": "stdout",
     "output_type": "stream",
     "text": [
      "mse:  19290696555.988472\n",
      "RMSE:  138890.95203067936\n"
     ]
    }
   ],
   "source": [
    "from sklearn.metrics import mean_squared_error\n",
    "import math\n",
    "\n",
    "MSE = mean_squared_error(real_Consumption, sc.inverse_transform(predicted_Consumption))\n",
    "print('mse: ', MSE)\n",
    "print('RMSE: ', math.sqrt(MSE))"
   ]
  }
 ],
 "metadata": {
  "kernelspec": {
   "display_name": "Python 3 (ipykernel)",
   "language": "python",
   "name": "python3"
  },
  "language_info": {
   "codemirror_mode": {
    "name": "ipython",
    "version": 3
   },
   "file_extension": ".py",
   "mimetype": "text/x-python",
   "name": "python",
   "nbconvert_exporter": "python",
   "pygments_lexer": "ipython3",
   "version": "3.8.10"
  }
 },
 "nbformat": 4,
 "nbformat_minor": 5
}
