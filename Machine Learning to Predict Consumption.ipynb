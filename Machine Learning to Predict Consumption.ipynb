{
 "cells": [
  {
   "cell_type": "code",
   "execution_count": 1,
   "id": "f203bb87",
   "metadata": {},
   "outputs": [],
   "source": [
    "import numpy as np\n",
    "import matplotlib.pyplot as plt\n",
    "import pandas as pd"
   ]
  },
  {
   "cell_type": "code",
   "execution_count": 2,
   "id": "14e5408f",
   "metadata": {},
   "outputs": [
    {
     "data": {
      "text/html": [
       "<div>\n",
       "<style scoped>\n",
       "    .dataframe tbody tr th:only-of-type {\n",
       "        vertical-align: middle;\n",
       "    }\n",
       "\n",
       "    .dataframe tbody tr th {\n",
       "        vertical-align: top;\n",
       "    }\n",
       "\n",
       "    .dataframe thead th {\n",
       "        text-align: right;\n",
       "    }\n",
       "</style>\n",
       "<table border=\"1\" class=\"dataframe\">\n",
       "  <thead>\n",
       "    <tr style=\"text-align: right;\">\n",
       "      <th></th>\n",
       "      <th>Consumption</th>\n",
       "      <th>next 8 hour</th>\n",
       "    </tr>\n",
       "  </thead>\n",
       "  <tbody>\n",
       "    <tr>\n",
       "      <th>0</th>\n",
       "      <td>56443</td>\n",
       "      <td>43926.143750</td>\n",
       "    </tr>\n",
       "    <tr>\n",
       "      <th>1</th>\n",
       "      <td>51642</td>\n",
       "      <td>43902.985417</td>\n",
       "    </tr>\n",
       "    <tr>\n",
       "      <th>2</th>\n",
       "      <td>51757</td>\n",
       "      <td>43891.245833</td>\n",
       "    </tr>\n",
       "    <tr>\n",
       "      <th>3</th>\n",
       "      <td>51521</td>\n",
       "      <td>43879.418750</td>\n",
       "    </tr>\n",
       "    <tr>\n",
       "      <th>4</th>\n",
       "      <td>51295</td>\n",
       "      <td>43867.204167</td>\n",
       "    </tr>\n",
       "  </tbody>\n",
       "</table>\n",
       "</div>"
      ],
      "text/plain": [
       "   Consumption   next 8 hour\n",
       "0        56443  43926.143750\n",
       "1        51642  43902.985417\n",
       "2        51757  43891.245833\n",
       "3        51521  43879.418750\n",
       "4        51295  43867.204167"
      ]
     },
     "execution_count": 2,
     "metadata": {},
     "output_type": "execute_result"
    }
   ],
   "source": [
    "dataset_train = pd.read_excel('demand_jan_maio.xlsx')\n",
    "dataset_train.head()\n"
   ]
  },
  {
   "cell_type": "code",
   "execution_count": 3,
   "id": "10b8da17",
   "metadata": {},
   "outputs": [],
   "source": [
    "training_set = dataset_train.iloc[:, 0:1].values\n"
   ]
  },
  {
   "cell_type": "code",
   "execution_count": 4,
   "id": "aaabdd6f",
   "metadata": {},
   "outputs": [
    {
     "data": {
      "text/plain": [
       "(217440, 2)"
      ]
     },
     "execution_count": 4,
     "metadata": {},
     "output_type": "execute_result"
    }
   ],
   "source": [
    "dataset_train.shape"
   ]
  },
  {
   "cell_type": "code",
   "execution_count": 5,
   "id": "c1b5b6b4",
   "metadata": {},
   "outputs": [
    {
     "data": {
      "text/html": [
       "<div>\n",
       "<style scoped>\n",
       "    .dataframe tbody tr th:only-of-type {\n",
       "        vertical-align: middle;\n",
       "    }\n",
       "\n",
       "    .dataframe tbody tr th {\n",
       "        vertical-align: top;\n",
       "    }\n",
       "\n",
       "    .dataframe thead th {\n",
       "        text-align: right;\n",
       "    }\n",
       "</style>\n",
       "<table border=\"1\" class=\"dataframe\">\n",
       "  <thead>\n",
       "    <tr style=\"text-align: right;\">\n",
       "      <th></th>\n",
       "      <th>Consumption</th>\n",
       "      <th>next 8 hour</th>\n",
       "    </tr>\n",
       "  </thead>\n",
       "  <tbody>\n",
       "    <tr>\n",
       "      <th>0</th>\n",
       "      <td>56443</td>\n",
       "      <td>43926.143750</td>\n",
       "    </tr>\n",
       "    <tr>\n",
       "      <th>1</th>\n",
       "      <td>51642</td>\n",
       "      <td>43902.985417</td>\n",
       "    </tr>\n",
       "    <tr>\n",
       "      <th>2</th>\n",
       "      <td>51757</td>\n",
       "      <td>43891.245833</td>\n",
       "    </tr>\n",
       "    <tr>\n",
       "      <th>3</th>\n",
       "      <td>51521</td>\n",
       "      <td>43879.418750</td>\n",
       "    </tr>\n",
       "    <tr>\n",
       "      <th>4</th>\n",
       "      <td>51295</td>\n",
       "      <td>43867.204167</td>\n",
       "    </tr>\n",
       "  </tbody>\n",
       "</table>\n",
       "</div>"
      ],
      "text/plain": [
       "   Consumption   next 8 hour\n",
       "0        56443  43926.143750\n",
       "1        51642  43902.985417\n",
       "2        51757  43891.245833\n",
       "3        51521  43879.418750\n",
       "4        51295  43867.204167"
      ]
     },
     "execution_count": 5,
     "metadata": {},
     "output_type": "execute_result"
    }
   ],
   "source": [
    "dataset_train.head()\n"
   ]
  },
  {
   "cell_type": "code",
   "execution_count": 6,
   "id": "2160e447",
   "metadata": {},
   "outputs": [
    {
     "data": {
      "text/plain": [
       "array([[56443],\n",
       "       [51642],\n",
       "       [51757],\n",
       "       ...,\n",
       "       [56765],\n",
       "       [54835],\n",
       "       [54475]])"
      ]
     },
     "execution_count": 6,
     "metadata": {},
     "output_type": "execute_result"
    }
   ],
   "source": [
    "training_set"
   ]
  },
  {
   "cell_type": "code",
   "execution_count": 7,
   "id": "53135f2d",
   "metadata": {},
   "outputs": [],
   "source": [
    "from sklearn.preprocessing import MinMaxScaler\n",
    "sc = MinMaxScaler(feature_range=(0, 1))\n",
    "training_set_scaled = sc.fit_transform(training_set[:100000])"
   ]
  },
  {
   "cell_type": "code",
   "execution_count": 8,
   "id": "8a6feae8",
   "metadata": {},
   "outputs": [
    {
     "data": {
      "text/plain": [
       "1440"
      ]
     },
     "execution_count": 8,
     "metadata": {},
     "output_type": "execute_result"
    }
   ],
   "source": [
    "3 * 480"
   ]
  },
  {
   "cell_type": "code",
   "execution_count": 9,
   "id": "10ba4f8b",
   "metadata": {},
   "outputs": [
    {
     "data": {
      "text/plain": [
       "(97980, 100, 1)"
      ]
     },
     "execution_count": 9,
     "metadata": {},
     "output_type": "execute_result"
    }
   ],
   "source": [
    "minutesAgoUpperBound = 1440\n",
    "minutesAgoLowerBound = 1540\n",
    "\n",
    "featureSize = minutesAgoLowerBound - minutesAgoUpperBound\n",
    "\n",
    "minutespredict = 480\n",
    "X_train = []\n",
    "y_train = []\n",
    "for i in range(minutesAgoLowerBound, 100000 - minutespredict):\n",
    "    X_train.append(training_set_scaled[i - minutesAgoLowerBound:i-minutesAgoUpperBound, 0])\n",
    "    y_train.append([training_set_scaled[i + x, 0] for x in range(minutespredict)])\n",
    "X_train, y_train = np.array(X_train), np.array(y_train)\n",
    "X_train = np.reshape(X_train, (X_train.shape[0], X_train.shape[1], 1))\n",
    "X_train.shape"
   ]
  },
  {
   "cell_type": "code",
   "execution_count": 10,
   "id": "24c2ca52",
   "metadata": {},
   "outputs": [
    {
     "data": {
      "text/plain": [
       "(97980, 480)"
      ]
     },
     "execution_count": 10,
     "metadata": {},
     "output_type": "execute_result"
    }
   ],
   "source": [
    "y_train.shape"
   ]
  },
  {
   "cell_type": "code",
   "execution_count": 11,
   "id": "faa03084",
   "metadata": {},
   "outputs": [
    {
     "name": "stderr",
     "output_type": "stream",
     "text": [
      "2022-07-15 17:38:29.371358: W tensorflow/stream_executor/platform/default/dso_loader.cc:64] Could not load dynamic library 'libcudart.so.11.0'; dlerror: libcudart.so.11.0: cannot open shared object file: No such file or directory\n",
      "2022-07-15 17:38:29.371373: I tensorflow/stream_executor/cuda/cudart_stub.cc:29] Ignore above cudart dlerror if you do not have a GPU set up on your machine.\n"
     ]
    }
   ],
   "source": [
    "from keras.models import Sequential\n",
    "from keras.layers import LSTM\n",
    "from keras.layers import Dropout\n",
    "from keras.layers import Dense"
   ]
  },
  {
   "cell_type": "code",
   "execution_count": 12,
   "id": "65e67c55",
   "metadata": {
    "scrolled": false
   },
   "outputs": [
    {
     "name": "stderr",
     "output_type": "stream",
     "text": [
      "2022-07-15 17:38:30.123338: W tensorflow/stream_executor/platform/default/dso_loader.cc:64] Could not load dynamic library 'libcuda.so.1'; dlerror: libcuda.so.1: cannot open shared object file: No such file or directory\n",
      "2022-07-15 17:38:30.123365: W tensorflow/stream_executor/cuda/cuda_driver.cc:269] failed call to cuInit: UNKNOWN ERROR (303)\n",
      "2022-07-15 17:38:30.123382: I tensorflow/stream_executor/cuda/cuda_diagnostics.cc:156] kernel driver does not appear to be running on this host (a-ZenBook): /proc/driver/nvidia/version does not exist\n",
      "2022-07-15 17:38:30.123636: I tensorflow/core/platform/cpu_feature_guard.cc:151] This TensorFlow binary is optimized with oneAPI Deep Neural Network Library (oneDNN) to use the following CPU instructions in performance-critical operations:  AVX2 AVX512F FMA\n",
      "To enable them in other operations, rebuild TensorFlow with the appropriate compiler flags.\n"
     ]
    },
    {
     "name": "stdout",
     "output_type": "stream",
     "text": [
      "Model: \"sequential\"\n",
      "_________________________________________________________________\n",
      " Layer (type)                Output Shape              Param #   \n",
      "=================================================================\n",
      " lstm (LSTM)                 (None, 100, 50)           10400     \n",
      "                                                                 \n",
      " dropout (Dropout)           (None, 100, 50)           0         \n",
      "                                                                 \n",
      " lstm_1 (LSTM)               (None, 100, 50)           20200     \n",
      "                                                                 \n",
      " dropout_1 (Dropout)         (None, 100, 50)           0         \n",
      "                                                                 \n",
      " lstm_2 (LSTM)               (None, 100, 50)           20200     \n",
      "                                                                 \n",
      " dropout_2 (Dropout)         (None, 100, 50)           0         \n",
      "                                                                 \n",
      " lstm_3 (LSTM)               (None, 50)                20200     \n",
      "                                                                 \n",
      " dropout_3 (Dropout)         (None, 50)                0         \n",
      "                                                                 \n",
      " dense (Dense)               (None, 480)               24480     \n",
      "                                                                 \n",
      "=================================================================\n",
      "Total params: 95,480\n",
      "Trainable params: 95,480\n",
      "Non-trainable params: 0\n",
      "_________________________________________________________________\n"
     ]
    }
   ],
   "source": [
    "model = Sequential()\n",
    "model.add(LSTM(units=50,return_sequences=True,input_shape=(X_train.shape[1], 1)))\n",
    "model.add(Dropout(0.2))\n",
    "model.add(LSTM(units=50,return_sequences=True))\n",
    "model.add(Dropout(0.2))\n",
    "model.add(LSTM(units=50,return_sequences=True))\n",
    "model.add(Dropout(0.2))\n",
    "model.add(LSTM(units=50))\n",
    "model.add(Dropout(0.2))\n",
    "model.add(Dense(units=minutespredict))\n",
    "model.compile(optimizer='adam',loss='mean_squared_error')\n",
    "model.summary()"
   ]
  },
  {
   "cell_type": "code",
   "execution_count": 13,
   "id": "3e7d5041",
   "metadata": {
    "scrolled": false
   },
   "outputs": [
    {
     "name": "stdout",
     "output_type": "stream",
     "text": [
      "Epoch 1/100\n",
      "98/98 [==============================] - 63s 616ms/step - loss: 0.0298\n",
      "Epoch 2/100\n",
      "98/98 [==============================] - 61s 624ms/step - loss: 0.0211\n",
      "Epoch 3/100\n",
      "98/98 [==============================] - 61s 624ms/step - loss: 0.0196\n",
      "Epoch 4/100\n",
      "98/98 [==============================] - 61s 623ms/step - loss: 0.0191\n",
      "Epoch 5/100\n",
      "98/98 [==============================] - 62s 628ms/step - loss: 0.0185\n",
      "Epoch 6/100\n",
      "98/98 [==============================] - 67s 683ms/step - loss: 0.0181\n",
      "Epoch 7/100\n",
      "98/98 [==============================] - 62s 636ms/step - loss: 0.0181\n",
      "Epoch 8/100\n",
      "98/98 [==============================] - 63s 639ms/step - loss: 0.0176\n",
      "Epoch 9/100\n",
      "98/98 [==============================] - 62s 635ms/step - loss: 0.0175\n",
      "Epoch 10/100\n",
      "98/98 [==============================] - 63s 643ms/step - loss: 0.0173\n",
      "Epoch 11/100\n",
      "98/98 [==============================] - 64s 651ms/step - loss: 0.0171\n",
      "Epoch 12/100\n",
      "98/98 [==============================] - 63s 640ms/step - loss: 0.0171\n",
      "Epoch 13/100\n",
      "98/98 [==============================] - 64s 654ms/step - loss: 0.0171\n",
      "Epoch 14/100\n",
      "98/98 [==============================] - 64s 650ms/step - loss: 0.0169\n",
      "Epoch 15/100\n",
      "98/98 [==============================] - 62s 636ms/step - loss: 0.0168\n",
      "Epoch 16/100\n",
      "98/98 [==============================] - 69s 701ms/step - loss: 0.0168\n",
      "Epoch 17/100\n",
      "98/98 [==============================] - 64s 652ms/step - loss: 0.0167\n",
      "Epoch 18/100\n",
      "98/98 [==============================] - 65s 661ms/step - loss: 0.0168\n",
      "Epoch 19/100\n",
      "98/98 [==============================] - 73s 744ms/step - loss: 0.0166\n",
      "Epoch 20/100\n",
      "98/98 [==============================] - 66s 672ms/step - loss: 0.0164\n",
      "Epoch 21/100\n",
      "98/98 [==============================] - 69s 703ms/step - loss: 0.0164\n",
      "Epoch 22/100\n",
      "98/98 [==============================] - 67s 680ms/step - loss: 0.0163\n",
      "Epoch 23/100\n",
      "98/98 [==============================] - 65s 668ms/step - loss: 0.0164\n",
      "Epoch 24/100\n",
      "98/98 [==============================] - 73s 746ms/step - loss: 0.0162\n",
      "Epoch 25/100\n",
      "98/98 [==============================] - 78s 800ms/step - loss: 0.0160\n",
      "Epoch 26/100\n",
      "98/98 [==============================] - 78s 791ms/step - loss: 0.0161\n",
      "Epoch 27/100\n",
      "98/98 [==============================] - 77s 788ms/step - loss: 0.0158\n",
      "Epoch 28/100\n",
      "98/98 [==============================] - 78s 792ms/step - loss: 0.0159\n",
      "Epoch 29/100\n",
      "98/98 [==============================] - 77s 790ms/step - loss: 0.0157\n",
      "Epoch 30/100\n",
      "98/98 [==============================] - 79s 809ms/step - loss: 0.0156\n",
      "Epoch 31/100\n",
      "98/98 [==============================] - 81s 822ms/step - loss: 0.0155\n",
      "Epoch 32/100\n",
      "98/98 [==============================] - 81s 826ms/step - loss: 0.0154\n",
      "Epoch 33/100\n",
      "98/98 [==============================] - 79s 804ms/step - loss: 0.0153\n",
      "Epoch 34/100\n",
      "98/98 [==============================] - 78s 797ms/step - loss: 0.0152\n",
      "Epoch 35/100\n",
      "98/98 [==============================] - 78s 792ms/step - loss: 0.0148\n",
      "Epoch 36/100\n",
      "98/98 [==============================] - 78s 798ms/step - loss: 0.0145\n",
      "Epoch 37/100\n",
      "98/98 [==============================] - 79s 805ms/step - loss: 0.0143\n",
      "Epoch 38/100\n",
      "98/98 [==============================] - 79s 809ms/step - loss: 0.0141\n",
      "Epoch 39/100\n",
      "98/98 [==============================] - 80s 821ms/step - loss: 0.0139\n",
      "Epoch 40/100\n",
      "98/98 [==============================] - 79s 806ms/step - loss: 0.0134\n",
      "Epoch 41/100\n",
      "98/98 [==============================] - 78s 798ms/step - loss: 0.0128\n",
      "Epoch 42/100\n",
      "98/98 [==============================] - 78s 791ms/step - loss: 0.0128\n",
      "Epoch 43/100\n",
      "98/98 [==============================] - 79s 803ms/step - loss: 0.0124\n",
      "Epoch 44/100\n",
      "98/98 [==============================] - 78s 795ms/step - loss: 0.0121\n",
      "Epoch 45/100\n",
      "98/98 [==============================] - 79s 801ms/step - loss: 0.0119\n",
      "Epoch 46/100\n",
      "98/98 [==============================] - 78s 799ms/step - loss: 0.0116\n",
      "Epoch 47/100\n",
      "98/98 [==============================] - 78s 799ms/step - loss: 0.0110\n",
      "Epoch 48/100\n",
      "98/98 [==============================] - 78s 797ms/step - loss: 0.0110\n",
      "Epoch 49/100\n",
      "98/98 [==============================] - 78s 799ms/step - loss: 0.0108\n",
      "Epoch 50/100\n",
      "98/98 [==============================] - 78s 792ms/step - loss: 0.0108\n",
      "Epoch 51/100\n",
      "98/98 [==============================] - 80s 816ms/step - loss: 0.0109\n",
      "Epoch 52/100\n",
      "98/98 [==============================] - 80s 812ms/step - loss: 0.0099\n",
      "Epoch 53/100\n",
      "98/98 [==============================] - 77s 791ms/step - loss: 0.0099\n",
      "Epoch 54/100\n",
      "98/98 [==============================] - 78s 799ms/step - loss: 0.0096\n",
      "Epoch 55/100\n",
      "98/98 [==============================] - 79s 803ms/step - loss: 0.0093\n",
      "Epoch 56/100\n",
      "98/98 [==============================] - 79s 808ms/step - loss: 0.0088\n",
      "Epoch 57/100\n",
      "98/98 [==============================] - 76s 773ms/step - loss: 0.0090\n",
      "Epoch 58/100\n",
      "98/98 [==============================] - 62s 633ms/step - loss: 0.0086\n",
      "Epoch 59/100\n",
      "98/98 [==============================] - 62s 631ms/step - loss: 0.0091\n",
      "Epoch 60/100\n",
      "98/98 [==============================] - 69s 707ms/step - loss: 0.0084\n",
      "Epoch 61/100\n",
      "98/98 [==============================] - 62s 636ms/step - loss: 0.0083\n",
      "Epoch 62/100\n",
      "98/98 [==============================] - 62s 628ms/step - loss: 0.0082\n",
      "Epoch 63/100\n",
      "98/98 [==============================] - 62s 630ms/step - loss: 0.0082\n",
      "Epoch 64/100\n",
      "98/98 [==============================] - 62s 636ms/step - loss: 0.0075\n",
      "Epoch 65/100\n",
      "98/98 [==============================] - 62s 628ms/step - loss: 0.0079\n",
      "Epoch 66/100\n",
      "98/98 [==============================] - 61s 627ms/step - loss: 0.0090\n",
      "Epoch 67/100\n",
      "98/98 [==============================] - 62s 628ms/step - loss: 0.0074\n",
      "Epoch 68/100\n",
      "98/98 [==============================] - 62s 630ms/step - loss: 0.0074\n",
      "Epoch 69/100\n",
      "98/98 [==============================] - 62s 629ms/step - loss: 0.0069\n",
      "Epoch 70/100\n",
      "98/98 [==============================] - 62s 628ms/step - loss: 0.0070\n",
      "Epoch 71/100\n",
      "98/98 [==============================] - 62s 629ms/step - loss: 0.0068\n",
      "Epoch 72/100\n",
      "98/98 [==============================] - 61s 627ms/step - loss: 0.0065\n",
      "Epoch 73/100\n",
      "98/98 [==============================] - 62s 631ms/step - loss: 0.0070\n",
      "Epoch 74/100\n",
      "98/98 [==============================] - 62s 631ms/step - loss: 0.0063\n",
      "Epoch 75/100\n",
      "98/98 [==============================] - 61s 625ms/step - loss: 0.0068\n",
      "Epoch 76/100\n",
      "98/98 [==============================] - 61s 625ms/step - loss: 0.0066\n",
      "Epoch 77/100\n",
      "98/98 [==============================] - 61s 626ms/step - loss: 0.0063\n",
      "Epoch 78/100\n",
      "98/98 [==============================] - 61s 626ms/step - loss: 0.0068\n",
      "Epoch 79/100\n",
      "98/98 [==============================] - 61s 625ms/step - loss: 0.0077\n",
      "Epoch 80/100\n",
      "98/98 [==============================] - 61s 625ms/step - loss: 0.0059\n",
      "Epoch 81/100\n",
      "98/98 [==============================] - 61s 625ms/step - loss: 0.0059\n",
      "Epoch 82/100\n",
      "98/98 [==============================] - 61s 625ms/step - loss: 0.0075\n",
      "Epoch 83/100\n",
      "98/98 [==============================] - 61s 627ms/step - loss: 0.0059\n",
      "Epoch 84/100\n",
      "98/98 [==============================] - 61s 625ms/step - loss: 0.0061\n",
      "Epoch 85/100\n",
      "98/98 [==============================] - 61s 625ms/step - loss: 0.0056\n",
      "Epoch 86/100\n",
      "98/98 [==============================] - 61s 625ms/step - loss: 0.0056\n",
      "Epoch 87/100\n",
      "98/98 [==============================] - 61s 626ms/step - loss: 0.0053\n",
      "Epoch 88/100\n",
      "98/98 [==============================] - 61s 626ms/step - loss: 0.0056\n",
      "Epoch 89/100\n",
      "98/98 [==============================] - 61s 626ms/step - loss: 0.0055\n",
      "Epoch 90/100\n",
      "98/98 [==============================] - 61s 625ms/step - loss: 0.0055\n",
      "Epoch 91/100\n",
      "98/98 [==============================] - 61s 626ms/step - loss: 0.0055\n",
      "Epoch 92/100\n",
      "98/98 [==============================] - 61s 626ms/step - loss: 0.0051\n",
      "Epoch 93/100\n",
      "98/98 [==============================] - 61s 627ms/step - loss: 0.0053\n",
      "Epoch 94/100\n",
      "98/98 [==============================] - 61s 625ms/step - loss: 0.0057\n",
      "Epoch 95/100\n",
      "98/98 [==============================] - 61s 625ms/step - loss: 0.0057\n",
      "Epoch 96/100\n",
      "98/98 [==============================] - 61s 625ms/step - loss: 0.0053\n",
      "Epoch 97/100\n",
      "98/98 [==============================] - 61s 627ms/step - loss: 0.0049\n",
      "Epoch 98/100\n"
     ]
    },
    {
     "name": "stdout",
     "output_type": "stream",
     "text": [
      "98/98 [==============================] - 61s 625ms/step - loss: 0.0048\n",
      "Epoch 99/100\n",
      "98/98 [==============================] - 61s 625ms/step - loss: 0.0047\n",
      "Epoch 100/100\n",
      "98/98 [==============================] - 61s 626ms/step - loss: 0.0048\n"
     ]
    },
    {
     "data": {
      "text/plain": [
       "<keras.callbacks.History at 0x7ff76c5ea370>"
      ]
     },
     "execution_count": 13,
     "metadata": {},
     "output_type": "execute_result"
    }
   ],
   "source": [
    "model.fit(X_train,y_train,epochs=100, batch_size=1000)"
   ]
  },
  {
   "cell_type": "code",
   "execution_count": 14,
   "id": "16e6e414",
   "metadata": {},
   "outputs": [],
   "source": [
    "# url = 'https://raw.githubusercontent.com/mwitiderrick/stockprice/master/tatatest.csv'\n",
    "# dataset_test = pd.read_csv(url)\n",
    "# real_stock_price = dataset_test.iloc[:, 1:2].values\n",
    "real_Consumption = training_set[100000:100000 + minutesAgoUpperBound]\n"
   ]
  },
  {
   "cell_type": "code",
   "execution_count": 15,
   "id": "f14322cb",
   "metadata": {},
   "outputs": [],
   "source": [
    "# minutespredict = 480\n",
    "# minutesAgo = 100"
   ]
  },
  {
   "cell_type": "code",
   "execution_count": 16,
   "id": "ceca9936",
   "metadata": {},
   "outputs": [],
   "source": [
    "# dataset_total = pd.concat((dataset_train['Open'], dataset_test['Open']), axis = 0)\n",
    "# inputs = dataset_train[len(dataset_total) - len(dataset_test) - 60:].values\n",
    "inputs = training_set[100000 - minutesAgoLowerBound:]\n",
    "inputs = inputs.reshape(-1, 1)\n",
    "inputs = sc.transform(inputs)\n",
    "X_test = []\n",
    "for i in range(minutesAgoLowerBound, 2 * minutesAgoUpperBound):\n",
    "    X_test.append(inputs[i-minutesAgoLowerBound:i-minutesAgoUpperBound, 0])\n",
    "X_test = np.array(X_test)\n",
    "X_test = np.reshape(X_test, (X_test.shape[0], X_test.shape[1], 1))"
   ]
  },
  {
   "cell_type": "code",
   "execution_count": 17,
   "id": "5a65f67d",
   "metadata": {},
   "outputs": [],
   "source": [
    "predicted_Consumption = model.predict(X_test)\n",
    "# predicted_Consumption = sc.inverse_transform(predicted_Consumption)"
   ]
  },
  {
   "cell_type": "code",
   "execution_count": 35,
   "id": "f7aefd89",
   "metadata": {},
   "outputs": [
    {
     "data": {
      "image/png": "[encoded data removed]",
      "text/plain": [
       "<Figure size 432x288 with 1 Axes>"
      ]
     },
     "metadata": {
      "needs_background": "light"
     },
     "output_type": "display_data"
    }
   ],
   "source": [
    "plt.plot(real_Consumption[:480], color = 'black', label = 'Elec Consumption')\n",
    "plt.plot(sc.inverse_transform(predicted_Consumption)[0], color = 'green', label = 'Predicted Elec Consumption')\n",
    "plt.title('Electricity Consumption Prediction')\n",
    "plt.xlabel('Time')\n",
    "plt.ylabel('Elec Consumption')\n",
    "plt.legend()\n",
    "plt.show()"
   ]
  },
  {
   "cell_type": "code",
   "execution_count": null,
   "id": "87dab052",
   "metadata": {},
   "outputs": [],
   "source": []
  }
 ],
 "metadata": {
  "kernelspec": {
   "display_name": "Python 3 (ipykernel)",
   "language": "python",
   "name": "python3"
  },
  "language_info": {
   "codemirror_mode": {
    "name": "ipython",
    "version": 3
   },
   "file_extension": ".py",
   "mimetype": "text/x-python",
   "name": "python",
   "nbconvert_exporter": "python",
   "pygments_lexer": "ipython3",
   "version": "3.8.10"
  }
 },
 "nbformat": 4,
 "nbformat_minor": 5
}
